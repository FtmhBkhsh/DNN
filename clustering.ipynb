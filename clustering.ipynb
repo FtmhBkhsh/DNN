{
  "nbformat": 4,
  "nbformat_minor": 0,
  "metadata": {
    "colab": {
      "name": "clustering.ipynb",
      "provenance": [],
      "collapsed_sections": []
    },
    "kernelspec": {
      "name": "python3",
      "display_name": "Python 3"
    },
    "language_info": {
      "name": "python"
    }
  },
  "cells": [
    {
      "cell_type": "markdown",
      "source": [
        "#### import libraries"
      ],
      "metadata": {
        "id": "YSZq0EC4F0hh"
      }
    },
    {
      "cell_type": "code",
      "source": [
        "import matplotlib.pyplot as plt\n",
        "from keras.datasets import mnist\n",
        "from sklearn import metrics\n"
      ],
      "metadata": {
        "id": "bwJM4-XNFvq_"
      },
      "execution_count": 78,
      "outputs": []
    },
    {
      "cell_type": "markdown",
      "source": [
        "#### download dataset"
      ],
      "metadata": {
        "id": "Zowd05JXFDdC"
      }
    },
    {
      "cell_type": "code",
      "execution_count": 79,
      "metadata": {
        "id": "_nvNZ0HgxHAV"
      },
      "outputs": [],
      "source": [
        "(x_train, y_train), (x_test, y_test) = mnist.load_data()"
      ]
    },
    {
      "cell_type": "markdown",
      "source": [
        "#### print size of train and test"
      ],
      "metadata": {
        "id": "ZXkildIXFjXQ"
      }
    },
    {
      "cell_type": "code",
      "source": [
        "print('test Data:', (x_test.shape))\n",
        "print('test Labels:', (y_test.shape))\n",
        "print('Training Data:', (x_train.shape))\n",
        "print('Training Labels:', (y_train.shape))"
      ],
      "metadata": {
        "colab": {
          "base_uri": "https://localhost:8080/"
        },
        "id": "JLKx1E-n3bQq",
        "outputId": "c051f70c-71ad-4f76-be69-d1438959a2f0"
      },
      "execution_count": 80,
      "outputs": [
        {
          "output_type": "stream",
          "name": "stdout",
          "text": [
            "test Data: (10000, 28, 28)\n",
            "test Labels: (10000,)\n",
            "Training Data: (60000, 28, 28)\n",
            "Training Labels: (60000,)\n"
          ]
        }
      ]
    },
    {
      "cell_type": "markdown",
      "source": [
        "#### convert 28*28 image data to a vector"
      ],
      "metadata": {
        "id": "HhtqLngdGoNe"
      }
    },
    {
      "cell_type": "code",
      "source": [
        "X = x_train.reshape(len(x_train),-1)\n",
        "Y = y_train\n",
        "\n",
        "# normalize the data to 0 - 1\n",
        "X = X.astype(float) / 255.\n",
        "\n",
        "print(X.shape)\n",
        "print(X[0].shape)"
      ],
      "metadata": {
        "colab": {
          "base_uri": "https://localhost:8080/"
        },
        "id": "D-NS6YeA3vKk",
        "outputId": "4c059380-6ff2-4b6d-d03a-e3b74bc1e67d"
      },
      "execution_count": 81,
      "outputs": [
        {
          "output_type": "stream",
          "name": "stdout",
          "text": [
            "(60000, 784)\n",
            "(784,)\n"
          ]
        }
      ]
    },
    {
      "cell_type": "markdown",
      "source": [
        "#### initialize and fit the train data"
      ],
      "metadata": {
        "id": "J5pwabhDG03R"
      }
    },
    {
      "cell_type": "code",
      "source": [
        "from sklearn.cluster import MiniBatchKMeans\n",
        "# give the number of classes\n",
        "n_digits = len(np.unique(y_test))\n",
        "print(n_digits)\n",
        "\n",
        "# Initialize KMeans model\n",
        "kmeans = MiniBatchKMeans(n_clusters = n_digits)\n",
        "\n",
        "# Fit the model\n",
        "kmeans.fit(X)"
      ],
      "metadata": {
        "colab": {
          "base_uri": "https://localhost:8080/"
        },
        "id": "EkRlYDyR3zKz",
        "outputId": "ca929247-dd8d-488d-d384-08d926ca98cf"
      },
      "execution_count": 82,
      "outputs": [
        {
          "output_type": "stream",
          "name": "stdout",
          "text": [
            "10\n"
          ]
        },
        {
          "output_type": "execute_result",
          "data": {
            "text/plain": [
              "MiniBatchKMeans(n_clusters=10)"
            ]
          },
          "metadata": {},
          "execution_count": 82
        }
      ]
    },
    {
      "cell_type": "code",
      "source": [
        "kmeans.labels_"
      ],
      "metadata": {
        "colab": {
          "base_uri": "https://localhost:8080/"
        },
        "id": "6nvucg7C33nm",
        "outputId": "f8487dbd-fa52-4f09-e524-614f32b6a6dd"
      },
      "execution_count": 93,
      "outputs": [
        {
          "output_type": "execute_result",
          "data": {
            "text/plain": [
              "array([13,  8, 11, ..., 13,  1,  9], dtype=int32)"
            ]
          },
          "metadata": {},
          "execution_count": 93
        }
      ]
    },
    {
      "cell_type": "code",
      "source": [
        "len(kmeans.labels_)"
      ],
      "metadata": {
        "colab": {
          "base_uri": "https://localhost:8080/"
        },
        "id": "LPsiLIkoZBPt",
        "outputId": "e71539f5-b777-4162-f3ef-c5c8842edca7"
      },
      "execution_count": 94,
      "outputs": [
        {
          "output_type": "execute_result",
          "data": {
            "text/plain": [
              "60000"
            ]
          },
          "metadata": {},
          "execution_count": 94
        }
      ]
    },
    {
      "cell_type": "markdown",
      "source": [
        "#### Assigning Cluster Labels\n",
        "K-means clustering is an unsupervised machine learning method; consequently, the labels assigned by our KMeans algorithm refer to the cluster each array was assigned randomly, so the labels are diffrent with the actual target integer. so we need to adjust the numbers."
      ],
      "metadata": {
        "id": "J1UymYhjIpsH"
      }
    },
    {
      "cell_type": "code",
      "source": [
        "def infer_cluster_labels(kmeans, actual_labels):\n",
        "    \"\"\"\n",
        "    Associates most probable label with each cluster in KMeans model\n",
        "    returns: dictionary of clusters assigned to each label\n",
        "    \"\"\"\n",
        "\n",
        "    inferred_labels = {}\n",
        "    for i in range(kmeans.n_clusters):\n",
        "        # find index of points in cluster\n",
        "        labels = []\n",
        "        index = np.where(kmeans.labels_ == i)\n",
        "        # append actual labels for each point in cluster\n",
        "        labels.append(actual_labels[index])\n",
        "        # determine most common label\n",
        "        if len(labels[0]) == 1:\n",
        "            counts = np.bincount(labels[0])\n",
        "        else:\n",
        "            counts = np.bincount(np.squeeze(labels))\n",
        "        # assign the cluster to a value in the inferred_labels dictionary\n",
        "        if np.argmax(counts) in inferred_labels:\n",
        "            # append the new number to the existing array at this slot\n",
        "            inferred_labels[np.argmax(counts)].append(i)\n",
        "        else:\n",
        "            # create a new array in this slot\n",
        "            inferred_labels[np.argmax(counts)] = [i]\n",
        "        #print(labels)\n",
        "        #print('Cluster: {}, label: {}'.format(i, np.argmax(counts)))\n",
        "    return inferred_labels  "
      ],
      "metadata": {
        "id": "aMIzeil038Xm"
      },
      "execution_count": 84,
      "outputs": []
    },
    {
      "cell_type": "code",
      "source": [
        "def infer_data_labels(X_labels, cluster_labels):\n",
        "    \"\"\"\n",
        "    Determines label for each array, depending on the cluster it has been assigned to.\n",
        "    returns: predicted labels for each array\n",
        "    \"\"\"\n",
        "    \n",
        "    # empty array of len(X)\n",
        "    predicted_labels = np.zeros(len(X_labels)).astype(np.uint8)\n",
        "    \n",
        "    for i, cluster in enumerate(X_labels):\n",
        "        for key, value in cluster_labels.items():\n",
        "            if cluster in value:\n",
        "                predicted_labels[i] = key\n",
        "                \n",
        "    return predicted_labels"
      ],
      "metadata": {
        "id": "RkUooWQC4Zuq"
      },
      "execution_count": 85,
      "outputs": []
    },
    {
      "cell_type": "code",
      "source": [
        "cluster_labels = infer_cluster_labels(kmeans, Y)\n",
        "X_clusters = kmeans.predict(X)\n",
        "print(len(Y))\n",
        "predicted_labels = infer_data_labels(X_clusters, cluster_labels)\n",
        "print (predicted_labels[:10])\n",
        "print (Y[:10])"
      ],
      "metadata": {
        "colab": {
          "base_uri": "https://localhost:8080/"
        },
        "id": "LVbsC32D4dH8",
        "outputId": "9afe6ccf-4391-45f2-f67a-3918458616e3"
      },
      "execution_count": 98,
      "outputs": [
        {
          "output_type": "stream",
          "name": "stdout",
          "text": [
            "60000\n",
            "[5 0 4 1 9 2 1 8 1 4]\n",
            "[5 0 4 1 9 2 1 3 1 4]\n"
          ]
        }
      ]
    },
    {
      "cell_type": "code",
      "source": [
        "n_clusters=10\n",
        "\n",
        "\n",
        "X_test = x_test.reshape(len(x_test),-1)\n",
        "\n",
        "# normalize the data to 0 - 1\n",
        "X_test = X_test.astype(float) / 255.\n",
        "\n",
        "# initialize and fit KMeans algorithm on training data\n",
        "kmeans = MiniBatchKMeans(n_clusters = 20)\n",
        "kmeans.fit(X)\n",
        "cluster_labels = infer_cluster_labels(kmeans, Y)\n",
        "\n",
        "# predict labels for testing data\n",
        "test_clusters = kmeans.predict(X_test)\n",
        "predicted_labels = infer_data_labels(kmeans.predict(X_test), cluster_labels)\n",
        "       \n",
        "# calculate metrics\n",
        "print('Accuracy: {}\\n'.format(metrics.accuracy_score(y_test, predicted_labels)))\n",
        "print('Precision: {}\\n'.format(metrics.precision_score(y_test, predicted_labels,average=None)))\n",
        "print('Recall: {}\\n'.format(metrics.recall_score(y_test, predicted_labels,average=None)))\n",
        "print('Jaccard: {}\\n'.format(metrics.jaccard_score(y_test, predicted_labels,average=None)))\n"
      ],
      "metadata": {
        "colab": {
          "base_uri": "https://localhost:8080/"
        },
        "id": "SUnP2bty4rug",
        "outputId": "0c8a86fd-cad0-4ee6-9ff5-cd8af9291018"
      },
      "execution_count": 99,
      "outputs": [
        {
          "output_type": "stream",
          "name": "stdout",
          "text": [
            "Accuracy: 0.6568\n",
            "\n",
            "Precision: [0.94965035 0.84182909 0.76746507 0.6129613  0.49563319 0.44615385\n",
            " 0.88422247 0.5157832  0.5460076  0.50664137]\n",
            "\n",
            "Recall: [0.69285714 0.98942731 0.74515504 0.67425743 0.46232179 0.26008969\n",
            " 0.8131524  0.84241245 0.73716632 0.26461843]\n",
            "\n",
            "Jaccard: [0.66830709 0.83432392 0.60790514 0.47291667 0.31440443 0.19661017\n",
            " 0.73490566 0.47039652 0.45703374 0.21040189]\n",
            "\n"
          ]
        }
      ]
    }
  ]
}